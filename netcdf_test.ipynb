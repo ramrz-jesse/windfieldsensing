{
 "cells": [
  {
   "cell_type": "code",
   "execution_count": 21,
   "id": "ac72d587",
   "metadata": {},
   "outputs": [
    {
     "data": {
      "text/plain": [
       "<class 'netCDF4.Dataset'>\n",
       "root group (NETCDF4 data model, file format HDF5):\n",
       "    description: 2D Fire Simulation Data (Temperature Vector Stored in Single Variable)\n",
       "    history: Created on 2025-05-08 11:39:44\n",
       "    domain_size: 500\n",
       "    dimensions(sizes): time(900), x(250), y(250), temp(1)\n",
       "    variables(dimensions): float32 time(time), float32 temperature(time, x, y, temp)\n",
       "    groups: "
      ]
     },
     "execution_count": 21,
     "metadata": {},
     "output_type": "execute_result"
    }
   ],
   "source": [
    "import netCDF4\n",
    "\n",
    "nc = netCDF4.Dataset('FireTemp_field.nc', 'r')\n",
    "nc"
   ]
  },
  {
   "cell_type": "code",
   "execution_count": null,
   "id": "2a004742",
   "metadata": {},
   "outputs": [],
   "source": []
  }
 ],
 "metadata": {
  "kernelspec": {
   "display_name": "windfieldsensing",
   "language": "python",
   "name": "python3"
  },
  "language_info": {
   "codemirror_mode": {
    "name": "ipython",
    "version": 3
   },
   "file_extension": ".py",
   "mimetype": "text/x-python",
   "name": "python",
   "nbconvert_exporter": "python",
   "pygments_lexer": "ipython3",
   "version": "3.13.0"
  }
 },
 "nbformat": 4,
 "nbformat_minor": 5
}
